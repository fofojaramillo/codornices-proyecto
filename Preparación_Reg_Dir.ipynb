{
 "cells": [
  {
   "cell_type": "markdown",
   "metadata": {},
   "source": [
    "### Análisis de grupos funcionales y preparación de datos para regresión de Dirichlet"
   ]
  },
  {
   "cell_type": "code",
   "execution_count": 27,
   "metadata": {},
   "outputs": [],
   "source": [
    "import pandas as pd\n",
    "import matplotlib.pyplot as plt\n",
    "import numpy as np"
   ]
  },
  {
   "cell_type": "code",
   "execution_count": 18,
   "metadata": {},
   "outputs": [],
   "source": [
    "df = pd.read_csv('data/dataset_preprocessed.csv')"
   ]
  },
  {
   "cell_type": "markdown",
   "metadata": {},
   "source": [
    "Agruparemos los alimentos que componen la mayor parte de la dieta de la codorniz en grupos funcionales. Cada uno de estos grupos está caracterizado por las condiciones climatológicas favorables para su desarrollo y producción."
   ]
  },
  {
   "cell_type": "code",
   "execution_count": 19,
   "metadata": {},
   "outputs": [],
   "source": [
    "temperatura_baja_alta_prec = ['Cyp.bulb', 'Oxalis', 'Cyp.rizo']\n",
    "temperatura_baja_poca_prec = ['Piptochaetium.fimbriatum']\n",
    "temperatura_alta_alta_prec = ['Commelina.dianthifolia','Paspalum.distichum', 'Setaria' ]\n",
    "temperatura_alta_poca_prec = ['Quercus','Phaseolus', 'Setaria', 'Euphorbia probably E. bilobata', 'Urochloa', 'Physalis', 'Insectos' ]"
   ]
  },
  {
   "cell_type": "code",
   "execution_count": 20,
   "metadata": {},
   "outputs": [],
   "source": [
    "df['tbpa'] = df[temperatura_baja_alta_prec].sum(axis = 1)\n",
    "df['tbpp'] = df[temperatura_baja_poca_prec].sum(axis = 1)\n",
    "df['tapa'] = df[temperatura_alta_alta_prec].sum(axis = 1)\n",
    "df['tapp'] = df[temperatura_alta_poca_prec].sum(axis = 1)\n",
    "\n",
    "df.drop(columns = df.columns[5:136], inplace = True)\n",
    "df.drop(columns = ['Unnamed: 0', 'id', 'edad', 'sexo', 'lat', 'lon', 'gap'], inplace = True)"
   ]
  },
  {
   "cell_type": "code",
   "execution_count": 22,
   "metadata": {},
   "outputs": [],
   "source": [
    "df['sum'] = df['tbpa'] + df['tbpp'] + df['tapa'] + df['tapp'] "
   ]
  },
  {
   "cell_type": "code",
   "execution_count": 23,
   "metadata": {},
   "outputs": [],
   "source": [
    "df['tbpa'] = df['tbpa']/df['sum']\n",
    "df['tbpp'] = df['tbpp']/df['sum']\n",
    "df['tapa'] = df['tapa']/df['sum']\n",
    "df['tapp'] = df['tapp']/df['sum']"
   ]
  },
  {
   "cell_type": "code",
   "execution_count": 24,
   "metadata": {},
   "outputs": [],
   "source": [
    "df.drop(columns = 'sum', inplace = True)"
   ]
  },
  {
   "cell_type": "code",
   "execution_count": 26,
   "metadata": {},
   "outputs": [
    {
     "data": {
      "text/html": [
       "<div>\n",
       "<style scoped>\n",
       "    .dataframe tbody tr th:only-of-type {\n",
       "        vertical-align: middle;\n",
       "    }\n",
       "\n",
       "    .dataframe tbody tr th {\n",
       "        vertical-align: top;\n",
       "    }\n",
       "\n",
       "    .dataframe thead th {\n",
       "        text-align: right;\n",
       "    }\n",
       "</style>\n",
       "<table border=\"1\" class=\"dataframe\">\n",
       "  <thead>\n",
       "    <tr style=\"text-align: right;\">\n",
       "      <th></th>\n",
       "      <th>estado</th>\n",
       "      <th>time</th>\n",
       "      <th>dist camino</th>\n",
       "      <th>ppanual17</th>\n",
       "      <th>tmedia17</th>\n",
       "      <th>altitud</th>\n",
       "      <th>hcrop</th>\n",
       "      <th>hland</th>\n",
       "      <th>tbpa</th>\n",
       "      <th>tbpp</th>\n",
       "      <th>tapa</th>\n",
       "      <th>tapp</th>\n",
       "    </tr>\n",
       "  </thead>\n",
       "  <tbody>\n",
       "    <tr>\n",
       "      <th>0</th>\n",
       "      <td>NM</td>\n",
       "      <td>1420.0</td>\n",
       "      <td>251.86</td>\n",
       "      <td>462.0</td>\n",
       "      <td>7.054167</td>\n",
       "      <td>2518.0</td>\n",
       "      <td>0.000000</td>\n",
       "      <td>0.798600</td>\n",
       "      <td>1.00000</td>\n",
       "      <td>0.0</td>\n",
       "      <td>0.000000</td>\n",
       "      <td>0.000000</td>\n",
       "    </tr>\n",
       "    <tr>\n",
       "      <th>1</th>\n",
       "      <td>NM</td>\n",
       "      <td>1420.0</td>\n",
       "      <td>251.86</td>\n",
       "      <td>462.0</td>\n",
       "      <td>7.054167</td>\n",
       "      <td>2518.0</td>\n",
       "      <td>0.000000</td>\n",
       "      <td>0.798600</td>\n",
       "      <td>1.00000</td>\n",
       "      <td>0.0</td>\n",
       "      <td>0.000000</td>\n",
       "      <td>0.000000</td>\n",
       "    </tr>\n",
       "    <tr>\n",
       "      <th>2</th>\n",
       "      <td>AZ</td>\n",
       "      <td>1700.0</td>\n",
       "      <td>574.06</td>\n",
       "      <td>515.0</td>\n",
       "      <td>15.954167</td>\n",
       "      <td>1527.0</td>\n",
       "      <td>0.785803</td>\n",
       "      <td>1.245916</td>\n",
       "      <td>0.83108</td>\n",
       "      <td>0.0</td>\n",
       "      <td>0.000543</td>\n",
       "      <td>0.168376</td>\n",
       "    </tr>\n",
       "  </tbody>\n",
       "</table>\n",
       "</div>"
      ],
      "text/plain": [
       "  estado    time  dist camino  ppanual17   tmedia17  altitud     hcrop  \\\n",
       "0     NM  1420.0       251.86      462.0   7.054167   2518.0  0.000000   \n",
       "1     NM  1420.0       251.86      462.0   7.054167   2518.0  0.000000   \n",
       "2     AZ  1700.0       574.06      515.0  15.954167   1527.0  0.785803   \n",
       "\n",
       "      hland     tbpa  tbpp      tapa      tapp  \n",
       "0  0.798600  1.00000   0.0  0.000000  0.000000  \n",
       "1  0.798600  1.00000   0.0  0.000000  0.000000  \n",
       "2  1.245916  0.83108   0.0  0.000543  0.168376  "
      ]
     },
     "execution_count": 26,
     "metadata": {},
     "output_type": "execute_result"
    }
   ],
   "source": [
    "df.head(3)"
   ]
  },
  {
   "cell_type": "code",
   "execution_count": 38,
   "metadata": {},
   "outputs": [
    {
     "name": "stdout",
     "output_type": "stream",
     "text": [
      "En promedio, tbpa cubre el 56.80816326861049% de la dieta\n",
      "En promedio, tbpp cubre el 1.1398244843974112% de la dieta\n",
      "En promedio, tapa cubre el 4.638474409667637% de la dieta\n",
      "En promedio, tapp cubre el 37.41353783732446% de la dieta\n"
     ]
    }
   ],
   "source": [
    "grupos_funcionales = ['tbpa', 'tbpp', 'tapa', 'tapp']\n",
    "\n",
    "list_mean = []\n",
    "\n",
    "for grupo_funcional in grupos_funcionales:\n",
    "    print(f\"En promedio, {grupo_funcional} cubre el {np.mean(df[grupo_funcional]) * 100}% de la dieta\")\n",
    "    list_mean.append(np.mean(df[grupo_funcional]) * 100)"
   ]
  }
 ],
 "metadata": {
  "kernelspec": {
   "display_name": "Python 3",
   "language": "python",
   "name": "python3"
  },
  "language_info": {
   "codemirror_mode": {
    "name": "ipython",
    "version": 3
   },
   "file_extension": ".py",
   "mimetype": "text/x-python",
   "name": "python",
   "nbconvert_exporter": "python",
   "pygments_lexer": "ipython3",
   "version": "3.12.1"
  }
 },
 "nbformat": 4,
 "nbformat_minor": 2
}
